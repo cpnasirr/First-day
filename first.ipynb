{
  "nbformat": 4,
  "nbformat_minor": 0,
  "metadata": {
    "colab": {
      "provenance": [],
      "gpuType": "T4",
      "authorship_tag": "ABX9TyNXHEn5lS1jSUa4tHFaJ6g5",
      "include_colab_link": true
    },
    "kernelspec": {
      "name": "python3",
      "display_name": "Python 3"
    },
    "language_info": {
      "name": "python"
    }
  },
  "cells": [
    {
      "cell_type": "markdown",
      "metadata": {
        "id": "view-in-github",
        "colab_type": "text"
      },
      "source": [
        "<a href=\"https://colab.research.google.com/github/cpnasirr/First-day/blob/main/first.ipynb\" target=\"_parent\"><img src=\"https://colab.research.google.com/assets/colab-badge.svg\" alt=\"Open In Colab\"/></a>"
      ]
    },
    {
      "cell_type": "code",
      "execution_count": 1,
      "metadata": {
        "colab": {
          "base_uri": "https://localhost:8080/"
        },
        "id": "anG9ehLkR6wH",
        "outputId": "06e8ae12-9f80-4ebe-af23-07714b6dfdea"
      },
      "outputs": [
        {
          "output_type": "stream",
          "name": "stdout",
          "text": [
            "This is my first code\n"
          ]
        }
      ],
      "source": [
        "print(\"This is my first code\")"
      ]
    },
    {
      "cell_type": "code",
      "source": [
        "print(\"I want to you in github\")"
      ],
      "metadata": {
        "colab": {
          "base_uri": "https://localhost:8080/"
        },
        "id": "J4urj0ujS3X1",
        "outputId": "5595c3d6-f4c0-435d-f0ea-5cf881f4d5ef"
      },
      "execution_count": 1,
      "outputs": [
        {
          "output_type": "stream",
          "name": "stdout",
          "text": [
            "I want to you in github\n"
          ]
        }
      ]
    },
    {
      "cell_type": "code",
      "source": [],
      "metadata": {
        "id": "nkGVO4eMXCsI"
      },
      "execution_count": null,
      "outputs": []
    },
    {
      "cell_type": "code",
      "source": [],
      "metadata": {
        "id": "cVRQKRbGa1I3"
      },
      "execution_count": null,
      "outputs": []
    },
    {
      "cell_type": "markdown",
      "source": [
        "Where are you man"
      ],
      "metadata": {
        "id": "k7gjFJc8a1u8"
      }
    },
    {
      "cell_type": "code",
      "source": [],
      "metadata": {
        "id": "a-OAXuxMa5IA"
      },
      "execution_count": null,
      "outputs": []
    }
  ]
}